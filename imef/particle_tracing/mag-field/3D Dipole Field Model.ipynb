{
 "cells": [
  {
   "cell_type": "code",
   "execution_count": 1,
   "id": "571491b0",
   "metadata": {},
   "outputs": [],
   "source": [
    "import numpy as np\n",
    "import math\n",
    "import matplotlib.pyplot as plt\n",
    "import matplotlib.ticker as ticker\n",
    "from matplotlib.patches import Circle"
   ]
  },
  {
   "cell_type": "code",
   "execution_count": 2,
   "id": "72bd21c4",
   "metadata": {},
   "outputs": [],
   "source": [
    "RE = 6371000           # radius of earth [m]\n",
    "BE = 3.12e-5           # mag. field strength at surface of earth [T]"
   ]
  },
  {
   "cell_type": "code",
   "execution_count": 3,
   "id": "0eecf103",
   "metadata": {},
   "outputs": [],
   "source": [
    "def dipole(x,y,z):\n",
    "\n",
    "    r = np.sqrt(x**2+y**2+z**2)\n",
    "    \n",
    "    c0 = (BE*RE**3.0)/r**5.0\n",
    "    \n",
    "    Bx = c0*(-3.0*x*z)          # Bx\n",
    "    By = c0*(-3.0*y*z)          # By\n",
    "    Bz = c0*(r**2.0-3.0*z**2.0) # Bz\n",
    "\n",
    "    return Bx, By, Bz\n"
   ]
  },
  {
   "cell_type": "code",
   "execution_count": null,
   "id": "886e7508",
   "metadata": {},
   "outputs": [],
   "source": [
    "dn   = 1000\n",
    "nmax = 5*RE\n",
    "n    = np.linspace(-nmax, nmax, dn)\n",
    "\n",
    "# create gridpoints\n",
    "x, y, z = np.meshgrid(n,n,n)\n",
    "\n",
    "# solve for dipole field\n",
    "Bx, By, Bz = dipole(x,y,z)\n",
    "\n",
    "# plot 3D fieldlines\n",
    "fig = plt.figure(figsize=(4,4))\n",
    "ax = plt.axes(projection='3d')\n",
    "ax.quiver(x,y,z,Bx,By,Bz, normalize=True)\n",
    "plt.show()"
   ]
  },
  {
   "cell_type": "code",
   "execution_count": null,
   "id": "7e358ae5",
   "metadata": {},
   "outputs": [],
   "source": []
  }
 ],
 "metadata": {
  "kernelspec": {
   "display_name": "Python 3 (ipykernel)",
   "language": "python",
   "name": "python3"
  },
  "language_info": {
   "codemirror_mode": {
    "name": "ipython",
    "version": 3
   },
   "file_extension": ".py",
   "mimetype": "text/x-python",
   "name": "python",
   "nbconvert_exporter": "python",
   "pygments_lexer": "ipython3",
   "version": "3.8.10"
  }
 },
 "nbformat": 4,
 "nbformat_minor": 5
}
