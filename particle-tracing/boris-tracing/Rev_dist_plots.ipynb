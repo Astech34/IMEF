{
 "cells": [
  {
   "cell_type": "code",
   "execution_count": 1,
   "metadata": {},
   "outputs": [],
   "source": [
    "import numpy as np\n",
    "import math\n",
    "import matplotlib.pyplot as plt\n",
    "import matplotlib.ticker as ticker\n",
    "from matplotlib.patches import Circle\n",
    "from matplotlib.patches import Wedge\n",
    "from mpl_toolkits.mplot3d import Axes3D\n",
    "import datetime as dt\n",
    "from bfields import *\n",
    "from efields import *\n",
    "from plottools import *\n",
    "from boris import *\n",
    "\n",
    "import pymms.data\n",
    "from pymms.data import util, edi, fpi, anc\n",
    "\n",
    "\n",
    "# Use %matplotlib notebook to change to a zoom-able display.\n",
    "%matplotlib inline"
   ]
  },
  {
   "attachments": {},
   "cell_type": "markdown",
   "metadata": {},
   "source": [
    "# Distribution Plots based on Menz et al. 2019, Fig. 4\n",
    "\n",
    "**Step 0.1 Constants**"
   ]
  },
  {
   "cell_type": "code",
   "execution_count": 2,
   "metadata": {},
   "outputs": [],
   "source": [
    "RE = 6371000    # radius of earth [m] \n",
    "mp = 1.6e-27    # proton mass [kg]\n",
    "me = 9.1e-31    # electron mass [kg]\n",
    "qe = 1.603E-19  # proton charge [C]\n",
    "\n",
    "# creating charged particle / particle packet\n",
    "m = mp*4\n",
    "q = qe*2\n"
   ]
  },
  {
   "attachments": {},
   "cell_type": "markdown",
   "metadata": {},
   "source": [
    "**Step 0.2 Select time of MMS orbit, load data**"
   ]
  },
  {
   "cell_type": "code",
   "execution_count": 3,
   "metadata": {},
   "outputs": [],
   "source": [
    "t0 = dt.datetime(2020, 6, 29, 0)\n",
    "t1 = dt.datetime(2020, 6, 29, 12)\n",
    "\n",
    "r_vname = '_'.join(('mms1', 'mec', 'r', 'gse'))\n",
    "\n",
    "mec_data = util.load_data(sc='mms1', \n",
    "                        instr='mec', mode='srvy', \n",
    "                        level='l2', optdesc='epht89d', \n",
    "                        start_date=t0, \n",
    "                        end_date=t1, \n",
    "                        variables=r_vname)"
   ]
  },
  {
   "attachments": {},
   "cell_type": "markdown",
   "metadata": {},
   "source": [
    "**Step 1. Find the position of MMS on inbound leg of orbit from L=10 to L=3**\n",
    "\n",
    "Note: Currently not accounting for distance contraint L[3:10], so mms may be out of this range."
   ]
  },
  {
   "cell_type": "code",
   "execution_count": 4,
   "metadata": {},
   "outputs": [
    {
     "name": "stdout",
     "output_type": "stream",
     "text": [
      "[[-20.80122566 -19.00797759   1.88326902]\n",
      " [-20.79962362 -19.00880821   1.88139501]\n",
      " [-20.79802031 -19.00963768   1.87952088]\n",
      " ...\n",
      " [-17.15341045 -18.92140093  -0.87526498]\n",
      " [-17.14989845 -18.92035949  -0.87718331]\n",
      " [-17.14638499 -18.91931651  -0.87910155]]\n"
     ]
    }
   ],
   "source": [
    "\n",
    "# get mms position values in [km] and convert to array in units [m]\n",
    "pos = mec_data['mms1_mec_r_gse'].to_numpy()*1.e3\n",
    "\n",
    "# check\n",
    "print(pos/RE)"
   ]
  },
  {
   "attachments": {},
   "cell_type": "markdown",
   "metadata": {},
   "source": [
    "**Step 2. Find energy bins**"
   ]
  },
  {
   "cell_type": "code",
   "execution_count": 5,
   "metadata": {},
   "outputs": [],
   "source": [
    "def get_vcomponents(energy, mass, theta, phi):\n",
    "    \n",
    "    # velcoity magnitude \n",
    "    vmag = np.sqrt(2*energy*(1/mass))\n",
    "    \n",
    "    # velocity components [UNITS]\n",
    "    vx = vmag*np.sin(theta)*np.cos(phi)\n",
    "    vy = vmag*np.sin(theta)*np.sin(phi)\n",
    "    vz = vmag*np.cos(theta)\n",
    "    \n",
    "    return np.array([vx,vy,vz])\n",
    "\n",
    "\n",
    "\n",
    "# pull dataset\n",
    "dis_data = fpi.load_dist(sc='mms1', mode='srvy', optdesc='dis-dist', start_date=t0, end_date=t1)\n",
    "\n"
   ]
  },
  {
   "cell_type": "code",
   "execution_count": 10,
   "metadata": {},
   "outputs": [
    {
     "name": "stdout",
     "output_type": "stream",
     "text": [
      "[[ 3.75606169e+03 -9.63581119e+03 -1.09087819e+03]\n",
      " [ 5.05352272e+03 -1.29643214e+04 -1.46770160e+03]\n",
      " [ 6.79540827e+03 -1.74329594e+04 -1.97359983e+03]\n",
      " [ 8.44920655e+03 -2.16756182e+04 -2.45391475e+03]\n",
      " [ 9.72165277e+03 -2.49399553e+04 -2.82347307e+03]\n",
      " [ 1.11867410e+04 -2.86984967e+04 -3.24898066e+03]\n",
      " [ 1.28725941e+04 -3.30233891e+04 -3.73860532e+03]\n",
      " [ 1.48119024e+04 -3.79984959e+04 -4.30184130e+03]\n",
      " [ 1.70446555e+04 -4.37264070e+04 -4.95030288e+03]\n",
      " [ 1.96122136e+04 -5.03132279e+04 -5.69600234e+03]\n",
      " [ 2.25682278e+04 -5.78965949e+04 -6.55452163e+03]\n",
      " [ 2.59674817e+04 -6.66170505e+04 -7.54177165e+03]\n",
      " [ 2.98806531e+04 -7.66559112e+04 -8.67827942e+03]\n",
      " [ 3.43821577e+04 -8.82040840e+04 -9.98565765e+03]\n",
      " [ 3.95618358e+04 -1.01492045e+05 -1.14899987e+04]\n",
      " [ 4.55226135e+04 -1.16783840e+05 -1.32211956e+04]\n",
      " [ 5.23813880e+04 -1.34379360e+05 -1.52131990e+04]\n",
      " [ 6.02738763e+04 -1.54626771e+05 -1.75054253e+04]\n",
      " [ 6.93549507e+04 -1.77923385e+05 -2.01428543e+04]\n",
      " [ 7.98042388e+04 -2.04730018e+05 -2.31776555e+04]\n",
      " [ 9.18277636e+04 -2.35575203e+05 -2.66696645e+04]\n",
      " [ 1.05663231e+05 -2.71068750e+05 -3.06879184e+04]\n",
      " [ 1.21583056e+05 -3.11909514e+05 -3.53115353e+04]\n",
      " [ 1.39901275e+05 -3.58903124e+05 -4.06317210e+04]\n",
      " [ 1.60979614e+05 -4.12977553e+05 -4.67535320e+04]\n",
      " [ 1.85233476e+05 -4.75198478e+05 -5.37976146e+04]\n",
      " [ 2.13141864e+05 -5.46794737e+05 -6.19030866e+04]\n",
      " [ 2.45254930e+05 -6.29177687e+05 -7.12297288e+04]\n",
      " [ 2.82206263e+05 -7.23972738e+05 -8.19615554e+04]\n",
      " [ 3.24724892e+05 -8.33050151e+05 -9.43102999e+04]\n",
      " [ 3.73649667e+05 -9.58561904e+05 -1.08519590e+05]\n",
      " [ 4.29945654e+05 -1.10298379e+06 -1.24869711e+05]]\n"
     ]
    }
   ],
   "source": [
    "# get energy bins at initial time in units [eV]\n",
    "ebins = dis_data['energy'][0].to_numpy()\n",
    "\n",
    "# convert to [J]\n",
    "ebins = ebins*1.602176e-19\n",
    "\n",
    "# get angle data\n",
    "phidat = dis_data['phi'].to_numpy()\n",
    "thetadat = dis_data['theta'].to_numpy()\n",
    "\n",
    "# find velocity magnetiude [m/s]\n",
    "#vmag_mms = [np.sqrt(2*i/mp) for i in ebin0]\n",
    "#vbins = [get_vcomponents(e0, m, )]\n",
    "\n",
    "vdat = np.zeros((32,3))\n",
    "\n",
    "for i in range(0,32):\n",
    "    vdat[i] = get_vcomponents(ebins[i], m, thetadat[3], phidat[3])\n",
    "    \n",
    "# note: There are 32 energy bins, but 16 angle (theta, phi) values, not sure how to go about this\n",
    "#       so currently all inital angles are the same.\n",
    "\n",
    "# check\n",
    "print(vdat)"
   ]
  },
  {
   "attachments": {},
   "cell_type": "markdown",
   "metadata": {},
   "source": [
    "**Step 3. For each position, launch 32 particles, one for each energy, and trace backwards for ~11 hours (40000s).**\n",
    "\n",
    "According to Menz (2019) Fig. 4, the drift time should range from 1 hr (3600s) to 10 hrs (36000s)"
   ]
  },
  {
   "cell_type": "code",
   "execution_count": 7,
   "metadata": {},
   "outputs": [
    {
     "name": "stdout",
     "output_type": "stream",
     "text": [
      "tdrift [hr] =  0.0\n",
      "tdrift [hr] =  0.0\n",
      "tdrift [hr] =  0.0\n",
      "tdrift [hr] =  0.0\n",
      "tdrift [hr] =  0.0\n",
      "tdrift [hr] =  0.0\n",
      "tdrift [hr] =  0.0\n",
      "tdrift [hr] =  0.0\n",
      "tdrift [hr] =  0.0\n",
      "tdrift [hr] =  0.0\n",
      "tdrift [hr] =  0.0\n",
      "tdrift [hr] =  0.0\n",
      "tdrift [hr] =  0.0\n",
      "tdrift [hr] =  0.0\n",
      "tdrift [hr] =  0.0\n",
      "tdrift [hr] =  0.0\n",
      "tdrift [hr] =  0.0\n",
      "tdrift [hr] =  0.0\n",
      "tdrift [hr] =  0.0\n",
      "tdrift [hr] =  0.0\n",
      "tdrift [hr] =  0.0\n",
      "tdrift [hr] =  0.0\n",
      "tdrift [hr] =  0.0\n",
      "tdrift [hr] =  0.0\n",
      "tdrift [hr] =  0.0\n",
      "tdrift [hr] =  0.0\n",
      "tdrift [hr] =  0.0\n",
      "tdrift [hr] =  0.0\n",
      "tdrift [hr] =  0.0\n",
      "tdrift [hr] =  0.0\n",
      "tdrift [hr] =  0.0\n",
      "tdrift [hr] =  0.0\n",
      "tdrift [hr] =  0.0\n",
      "tdrift [hr] =  0.0\n",
      "tdrift [hr] =  0.0\n",
      "tdrift [hr] =  0.0\n",
      "tdrift [hr] =  0.0\n",
      "tdrift [hr] =  0.0\n",
      "tdrift [hr] =  0.0\n",
      "tdrift [hr] =  0.0\n",
      "tdrift [hr] =  0.0\n",
      "tdrift [hr] =  0.0\n",
      "tdrift [hr] =  0.0\n",
      "tdrift [hr] =  0.0\n",
      "tdrift [hr] =  0.0\n",
      "tdrift [hr] =  0.0\n",
      "tdrift [hr] =  0.0\n",
      "tdrift [hr] =  0.0\n",
      "tdrift [hr] =  0.0\n",
      "tdrift [hr] =  0.0\n",
      "tdrift [hr] =  0.0\n",
      "tdrift [hr] =  0.0\n",
      "tdrift [hr] =  0.0\n",
      "tdrift [hr] =  0.0\n",
      "tdrift [hr] =  0.0\n",
      "tdrift [hr] =  0.0\n",
      "tdrift [hr] =  0.0\n",
      "tdrift [hr] =  0.0\n",
      "tdrift [hr] =  0.0\n",
      "tdrift [hr] =  0.0\n",
      "tdrift [hr] =  0.0\n",
      "tdrift [hr] =  0.0\n",
      "tdrift [hr] =  0.0\n",
      "tdrift [hr] =  0.0\n",
      "tdrift [hr] =  0.0\n",
      "tdrift [hr] =  0.0\n",
      "tdrift [hr] =  0.0\n",
      "tdrift [hr] =  0.0\n",
      "tdrift [hr] =  0.0\n",
      "tdrift [hr] =  0.0\n",
      "tdrift [hr] =  0.0\n",
      "tdrift [hr] =  0.0\n",
      "tdrift [hr] =  0.0\n",
      "tdrift [hr] =  0.0\n",
      "tdrift [hr] =  0.0\n",
      "tdrift [hr] =  0.0\n",
      "tdrift [hr] =  0.0\n",
      "tdrift [hr] =  0.0\n",
      "tdrift [hr] =  0.0\n",
      "tdrift [hr] =  0.0\n",
      "tdrift [hr] =  0.0\n",
      "tdrift [hr] =  0.0\n",
      "tdrift [hr] =  0.0\n",
      "tdrift [hr] =  0.0\n",
      "tdrift [hr] =  0.0\n",
      "tdrift [hr] =  0.0\n",
      "tdrift [hr] =  0.0\n",
      "tdrift [hr] =  0.0\n",
      "tdrift [hr] =  0.0\n",
      "tdrift [hr] =  0.0\n",
      "tdrift [hr] =  0.0\n",
      "tdrift [hr] =  0.0\n",
      "tdrift [hr] =  0.0\n",
      "tdrift [hr] =  0.0\n",
      "tdrift [hr] =  0.0\n",
      "tdrift [hr] =  0.0\n",
      "tdrift [hr] =  0.0\n",
      "tdrift [hr] =  0.0\n",
      "tdrift [hr] =  0.0\n",
      "tdrift [hr] =  0.0\n",
      "tdrift [hr] =  0.0\n",
      "tdrift [hr] =  0.0\n",
      "tdrift [hr] =  0.0\n",
      "tdrift [hr] =  0.0\n",
      "tdrift [hr] =  0.0\n",
      "tdrift [hr] =  0.0\n",
      "tdrift [hr] =  0.0\n",
      "tdrift [hr] =  0.0\n",
      "tdrift [hr] =  0.0\n",
      "tdrift [hr] =  0.0\n",
      "tdrift [hr] =  0.0\n",
      "tdrift [hr] =  0.0\n",
      "tdrift [hr] =  0.0\n",
      "tdrift [hr] =  0.0\n",
      "tdrift [hr] =  0.0\n",
      "tdrift [hr] =  0.0\n",
      "tdrift [hr] =  0.0\n",
      "tdrift [hr] =  0.0\n",
      "tdrift [hr] =  0.0\n",
      "tdrift [hr] =  0.0\n",
      "tdrift [hr] =  0.0\n",
      "tdrift [hr] =  0.0\n",
      "tdrift [hr] =  0.0\n",
      "tdrift [hr] =  0.0\n",
      "tdrift [hr] =  0.0\n",
      "tdrift [hr] =  0.0\n",
      "tdrift [hr] =  0.0\n",
      "tdrift [hr] =  0.0\n",
      "tdrift [hr] =  0.0\n",
      "tdrift [hr] =  0.0\n",
      "tdrift [hr] =  0.0\n",
      "tdrift [hr] =  0.0\n",
      "tdrift [hr] =  0.0\n",
      "tdrift [hr] =  0.0\n",
      "tdrift [hr] =  0.0\n",
      "tdrift [hr] =  0.0\n",
      "tdrift [hr] =  0.0\n",
      "tdrift [hr] =  0.0\n",
      "tdrift [hr] =  0.0\n",
      "tdrift [hr] =  0.0\n",
      "tdrift [hr] =  0.0\n",
      "tdrift [hr] =  0.0\n",
      "tdrift [hr] =  0.0\n",
      "tdrift [hr] =  0.0\n",
      "tdrift [hr] =  0.0\n",
      "tdrift [hr] =  0.0\n",
      "tdrift [hr] =  0.0\n",
      "tdrift [hr] =  0.0\n",
      "tdrift [hr] =  0.0\n",
      "tdrift [hr] =  0.0\n",
      "tdrift [hr] =  0.0\n",
      "tdrift [hr] =  0.0\n",
      "tdrift [hr] =  0.0\n",
      "tdrift [hr] =  0.0\n",
      "tdrift [hr] =  0.0\n",
      "tdrift [hr] =  0.0\n",
      "tdrift [hr] =  0.0\n",
      "tdrift [hr] =  0.0\n",
      "tdrift [hr] =  0.0\n",
      "tdrift [hr] =  0.0\n",
      "tdrift [hr] =  0.0\n",
      "tdrift [hr] =  0.0\n",
      "tdrift [hr] =  0.0\n",
      "tdrift [hr] =  0.0\n",
      "tdrift [hr] =  0.0\n",
      "tdrift [hr] =  0.0\n",
      "tdrift [hr] =  0.0\n",
      "tdrift [hr] =  0.0\n",
      "tdrift [hr] =  0.0\n",
      "tdrift [hr] =  0.0\n",
      "tdrift [hr] =  0.0\n",
      "tdrift [hr] =  0.0\n",
      "tdrift [hr] =  0.0\n",
      "tdrift [hr] =  0.0\n",
      "tdrift [hr] =  0.0\n",
      "tdrift [hr] =  0.0\n",
      "tdrift [hr] =  0.0\n",
      "tdrift [hr] =  0.0\n",
      "tdrift [hr] =  0.0\n",
      "tdrift [hr] =  0.0\n",
      "tdrift [hr] =  0.0\n",
      "tdrift [hr] =  0.0\n",
      "tdrift [hr] =  0.0\n",
      "tdrift [hr] =  0.0\n",
      "tdrift [hr] =  0.0\n",
      "tdrift [hr] =  0.0\n",
      "tdrift [hr] =  0.0\n",
      "tdrift [hr] =  0.0\n",
      "tdrift [hr] =  0.0\n",
      "tdrift [hr] =  0.0\n",
      "tdrift [hr] =  0.0\n",
      "tdrift [hr] =  0.0\n",
      "tdrift [hr] =  0.0\n",
      "tdrift [hr] =  0.0\n",
      "tdrift [hr] =  0.0\n",
      "tdrift [hr] =  0.0\n",
      "tdrift [hr] =  0.0\n",
      "tdrift [hr] =  0.0\n",
      "tdrift [hr] =  0.0\n",
      "tdrift [hr] =  0.0\n",
      "tdrift [hr] =  0.0\n",
      "tdrift [hr] =  0.0\n",
      "tdrift [hr] =  0.0\n",
      "tdrift [hr] =  0.0\n",
      "tdrift [hr] =  0.0\n",
      "tdrift [hr] =  0.0\n",
      "tdrift [hr] =  0.0\n",
      "tdrift [hr] =  0.0\n",
      "tdrift [hr] =  0.0\n",
      "tdrift [hr] =  0.0\n",
      "tdrift [hr] =  0.0\n",
      "tdrift [hr] =  0.0\n",
      "tdrift [hr] =  0.0\n"
     ]
    },
    {
     "ename": "KeyboardInterrupt",
     "evalue": "",
     "output_type": "error",
     "traceback": [
      "\u001b[0;31m---------------------------------------------------------------------------\u001b[0m",
      "\u001b[0;31mKeyboardInterrupt\u001b[0m                         Traceback (most recent call last)",
      "Cell \u001b[0;32mIn[7], line 27\u001b[0m\n\u001b[1;32m     24\u001b[0m \u001b[39mfor\u001b[39;00m r0 \u001b[39min\u001b[39;00m rdat_mms:\n\u001b[1;32m     25\u001b[0m     \u001b[39mfor\u001b[39;00m v0 \u001b[39min\u001b[39;00m vdat_mms:\n\u001b[0;32m---> 27\u001b[0m         tdat, tdrift, vdat, rdat, emag \u001b[39m=\u001b[39m boris(tf, r0, \u001b[39m0.\u001b[39;49m, m, q, gs, kp, tdir\u001b[39m=\u001b[39;49m\u001b[39m'\u001b[39;49m\u001b[39mbw\u001b[39;49m\u001b[39m'\u001b[39;49m)\n\u001b[1;32m     28\u001b[0m \u001b[39m        \u001b[39m\u001b[39m\"\"\"\u001b[39;00m\n\u001b[1;32m     29\u001b[0m \u001b[39m        boris.py output key:\u001b[39;00m\n\u001b[1;32m     30\u001b[0m \u001b[39m        \u001b[39;00m\n\u001b[0;32m   (...)\u001b[0m\n\u001b[1;32m     35\u001b[0m \u001b[39m        emag (ndarray): magnitude of total E-field in units [mV/m]\u001b[39;00m\n\u001b[1;32m     36\u001b[0m \u001b[39m        \"\"\"\u001b[39;00m\n\u001b[1;32m     38\u001b[0m         \u001b[39m# find initial L-shell [RE]\u001b[39;00m\n",
      "File \u001b[0;32m~/dev/unh-srl/imef/particle-tracing/boris-tracing/boris.py:91\u001b[0m, in \u001b[0;36mboris\u001b[0;34m(tf, r0, v0, m, q, gs, kp, tdir)\u001b[0m\n\u001b[1;32m     88\u001b[0m v1 \u001b[39m=\u001b[39m v \u001b[39m+\u001b[39m (n \u001b[39m*\u001b[39m (q \u001b[39m*\u001b[39m E0 \u001b[39m*\u001b[39m dt) \u001b[39m/\u001b[39m (\u001b[39m2\u001b[39m \u001b[39m*\u001b[39m m))\n\u001b[1;32m     90\u001b[0m \u001b[39m# push step 2 - rotated via the magnetic field contribution\u001b[39;00m\n\u001b[0;32m---> 91\u001b[0m ax \u001b[39m=\u001b[39m v1 \u001b[39m+\u001b[39m (n \u001b[39m*\u001b[39m np\u001b[39m.\u001b[39;49mcross(v1, c0))\n\u001b[1;32m     92\u001b[0m bx \u001b[39m=\u001b[39m (\u001b[39m2\u001b[39m \u001b[39m*\u001b[39m c0) \u001b[39m/\u001b[39m (\u001b[39m1\u001b[39m \u001b[39m+\u001b[39m (n \u001b[39m*\u001b[39m c0\u001b[39m*\u001b[39m\u001b[39m*\u001b[39m\u001b[39m2\u001b[39m))\n\u001b[1;32m     93\u001b[0m v2 \u001b[39m=\u001b[39m v1 \u001b[39m+\u001b[39m (n \u001b[39m*\u001b[39m np\u001b[39m.\u001b[39mcross(ax, bx))\n",
      "File \u001b[0;32m<__array_function__ internals>:200\u001b[0m, in \u001b[0;36mcross\u001b[0;34m(*args, **kwargs)\u001b[0m\n",
      "File \u001b[0;32m/opt/homebrew/lib/python3.11/site-packages/numpy/core/numeric.py:1668\u001b[0m, in \u001b[0;36mcross\u001b[0;34m(a, b, axisa, axisb, axisc, axis)\u001b[0m\n\u001b[1;32m   1666\u001b[0m tmp \u001b[39m=\u001b[39m array(a2 \u001b[39m*\u001b[39m b1)\n\u001b[1;32m   1667\u001b[0m cp0 \u001b[39m-\u001b[39m\u001b[39m=\u001b[39m tmp\n\u001b[0;32m-> 1668\u001b[0m multiply(a2, b0, out\u001b[39m=\u001b[39;49mcp1)\n\u001b[1;32m   1669\u001b[0m multiply(a0, b2, out\u001b[39m=\u001b[39mtmp)\n\u001b[1;32m   1670\u001b[0m cp1 \u001b[39m-\u001b[39m\u001b[39m=\u001b[39m tmp\n",
      "\u001b[0;31mKeyboardInterrupt\u001b[0m: "
     ]
    }
   ],
   "source": [
    "# constants and constraints\n",
    "kp = 8.5        # kp index\n",
    "gs = 2.0        # shielding constant\n",
    "\n",
    "tf = 40000      # duration time (code will run for this exact time, regardless if L=10 crossed or not)\n",
    "dt = 0.01       # tiemstep\n",
    "\n",
    "# inital parameters\n",
    "rdat_mms = pos  # intial position (see Step 1.)\n",
    "vdat_mms = vdat # intial velocity (see Step 2.)\n",
    "\n",
    "# fake data (ignore)\n",
    "# rdat_mms = np.random.uniform(low=1, high=8., size=(7,3))*RE\n",
    "# vdat_mms = np.random.uniform(low=-4., high=4., size=(10,3))\n",
    "\n",
    "nstep = len(rdat_mms)*len(vdat_mms)\n",
    "\n",
    "lshell_dat = np.zeros(nstep)\n",
    "tdrift_dat = np.zeros(nstep)\n",
    "energy_dat = np.zeros(nstep)\n",
    "\n",
    "count = 0\n",
    "\n",
    "for r0 in rdat_mms:\n",
    "    for v0 in vdat_mms:\n",
    "        \n",
    "        tdat, tdrift, vdat, rdat, emag = boris(tf, r0, 0., m, q, gs, kp, tdir='bw')\n",
    "        \"\"\"\n",
    "        boris.py output key:\n",
    "        \n",
    "        tdat (ndarray): time data in units [s]\n",
    "        tdrift (ndarray): drift time in units [s]\n",
    "        vdat (ndarray): velocity data in units [m/s]\n",
    "        rdat (ndarray): position data in units [m]\n",
    "        emag (ndarray): magnitude of total E-field in units [mV/m]\n",
    "        \"\"\"\n",
    "        \n",
    "        # find initial L-shell [RE]\n",
    "        lshell = mag(r0)/RE\n",
    "        \n",
    "        #print('lshell = ', lshell)\n",
    "        \n",
    "        # find inital energy [J]\n",
    "        enval = 0.5*m*mag(v0)**2\n",
    "        \n",
    "        # convert energy to keV\n",
    "        enval = enval*6.242e+15\n",
    "        \n",
    "        # append data to arrays\n",
    "        lshell_dat[count] = lshell\n",
    "        energy_dat[count] = enval\n",
    "        \n",
    "        # print dirft time in units [hr]\n",
    "        print('tdrift [hr] = ',tdrift/3600)\n",
    "            \n",
    "        # count incrmenet\n",
    "        count += 1\n",
    "\n",
    "        "
   ]
  },
  {
   "attachments": {},
   "cell_type": "markdown",
   "metadata": {},
   "source": [
    "IGNORE EVERYHTHING BELOW"
   ]
  },
  {
   "cell_type": "code",
   "execution_count": null,
   "metadata": {},
   "outputs": [
    {
     "name": "stdout",
     "output_type": "stream",
     "text": [
      "4.839483136617283\n",
      "9.144946152242627\n",
      "5.724976155466459\n",
      "10.603207034997151\n",
      "8.358398192319207\n",
      "8.573795289196676\n",
      "9.228019946080648\n"
     ]
    }
   ],
   "source": [
    "for r0 in rdat_mms:\n",
    "    print(mag(r0)/RE)"
   ]
  },
  {
   "cell_type": "code",
   "execution_count": null,
   "metadata": {},
   "outputs": [
    {
     "name": "stdout",
     "output_type": "stream",
     "text": [
      "[0. 0. 0. 0. 0. 0. 0. 0. 0. 0. 0. 0. 0. 0. 0. 0. 0. 0. 0. 0. 0. 0. 0. 0.\n",
      " 0. 0. 0. 0. 0. 0. 0. 0. 0. 0. 0. 0. 0. 0. 0. 0. 0. 0. 0. 0. 0. 0. 0. 0.\n",
      " 0. 0. 0. 0. 0. 0. 0. 0. 0. 0. 0. 0. 0. 0. 0. 0. 0. 0. 0. 0. 0. 0. 0. 0.\n",
      " 0. 0. 0. 0. 0. 0. 0. 0. 0. 0. 0. 0. 0. 0. 0. 0. 0. 0. 0. 0. 0. 0. 0. 0.\n",
      " 0. 0. 0. 0. 0. 0. 0. 0. 0. 0. 0. 0. 0. 0. 0. 0. 0. 0. 0. 0. 0. 0. 0. 0.\n",
      " 0. 0. 0. 0. 0. 0. 0. 0. 0. 0. 0. 0. 0. 0. 0. 0. 0. 0. 0. 0. 0. 0. 0. 0.\n",
      " 0. 0. 0. 0. 0. 0. 0. 0. 0. 0. 0. 0. 0. 0. 0. 0. 0. 0. 0. 0. 0. 0. 0. 0.\n",
      " 0. 0. 0. 0. 0. 0. 0. 0. 0. 0. 0. 0. 0. 0. 0. 0. 0. 0. 0. 0. 0. 0. 0. 0.\n",
      " 0. 0. 0. 0. 0. 0. 0. 0. 0. 0. 0. 0. 0. 0. 0. 0. 0. 0. 0. 0. 0. 0. 0. 0.\n",
      " 0. 0. 0. 0. 0. 0. 0. 0.]\n"
     ]
    }
   ],
   "source": [
    "#print(lshell_dat)\n",
    "print(tdrift_dat)\n",
    "#print(energy_dat)\n"
   ]
  },
  {
   "cell_type": "markdown",
   "metadata": {},
   "source": [
    "## Plot"
   ]
  },
  {
   "cell_type": "code",
   "execution_count": null,
   "metadata": {},
   "outputs": [
    {
     "ename": "ValueError",
     "evalue": "not enough values to unpack (expected 2, got 1)",
     "output_type": "error",
     "traceback": [
      "\u001b[0;31m---------------------------------------------------------------------------\u001b[0m",
      "\u001b[0;31mValueError\u001b[0m                                Traceback (most recent call last)",
      "Cell \u001b[0;32mIn[21], line 12\u001b[0m\n\u001b[1;32m      8\u001b[0m ax1 \u001b[39m=\u001b[39m axes[\u001b[39m0\u001b[39m, \u001b[39m0\u001b[39m]\n\u001b[1;32m     10\u001b[0m \u001b[39m# plot convection potential\u001b[39;00m\n\u001b[1;32m     11\u001b[0m \u001b[39m#plot1 = ax1.pcolormesh(lshell_dat, energy_dat, tscale, cmap ='Greens', shading='nearest')\u001b[39;00m\n\u001b[0;32m---> 12\u001b[0m plot1 \u001b[39m=\u001b[39m ax1\u001b[39m.\u001b[39;49mpcolormesh(lshell_dat, energy_dat, tscale, cmap \u001b[39m=\u001b[39;49m\u001b[39m'\u001b[39;49m\u001b[39mGreens\u001b[39;49m\u001b[39m'\u001b[39;49m, shading\u001b[39m=\u001b[39;49m\u001b[39m'\u001b[39;49m\u001b[39mnearest\u001b[39;49m\u001b[39m'\u001b[39;49m)\n\u001b[1;32m     13\u001b[0m fig\u001b[39m.\u001b[39mcolorbar(plot1, ax\u001b[39m=\u001b[39max1, pad\u001b[39m=\u001b[39m\u001b[39m0.13\u001b[39m, fraction\u001b[39m=\u001b[39m\u001b[39m0.04\u001b[39m, label\u001b[39m=\u001b[39m\u001b[39m\"\u001b[39m\u001b[39mDrift Time [hr]\u001b[39m\u001b[39m\"\u001b[39m)\n",
      "File \u001b[0;32m/opt/homebrew/lib/python3.11/site-packages/matplotlib/__init__.py:1423\u001b[0m, in \u001b[0;36m_preprocess_data.<locals>.inner\u001b[0;34m(ax, data, *args, **kwargs)\u001b[0m\n\u001b[1;32m   1420\u001b[0m \u001b[39m@functools\u001b[39m\u001b[39m.\u001b[39mwraps(func)\n\u001b[1;32m   1421\u001b[0m \u001b[39mdef\u001b[39;00m \u001b[39minner\u001b[39m(ax, \u001b[39m*\u001b[39margs, data\u001b[39m=\u001b[39m\u001b[39mNone\u001b[39;00m, \u001b[39m*\u001b[39m\u001b[39m*\u001b[39mkwargs):\n\u001b[1;32m   1422\u001b[0m     \u001b[39mif\u001b[39;00m data \u001b[39mis\u001b[39;00m \u001b[39mNone\u001b[39;00m:\n\u001b[0;32m-> 1423\u001b[0m         \u001b[39mreturn\u001b[39;00m func(ax, \u001b[39m*\u001b[39;49m\u001b[39mmap\u001b[39;49m(sanitize_sequence, args), \u001b[39m*\u001b[39;49m\u001b[39m*\u001b[39;49mkwargs)\n\u001b[1;32m   1425\u001b[0m     bound \u001b[39m=\u001b[39m new_sig\u001b[39m.\u001b[39mbind(ax, \u001b[39m*\u001b[39margs, \u001b[39m*\u001b[39m\u001b[39m*\u001b[39mkwargs)\n\u001b[1;32m   1426\u001b[0m     auto_label \u001b[39m=\u001b[39m (bound\u001b[39m.\u001b[39marguments\u001b[39m.\u001b[39mget(label_namer)\n\u001b[1;32m   1427\u001b[0m                   \u001b[39mor\u001b[39;00m bound\u001b[39m.\u001b[39mkwargs\u001b[39m.\u001b[39mget(label_namer))\n",
      "File \u001b[0;32m/opt/homebrew/lib/python3.11/site-packages/matplotlib/axes/_axes.py:6133\u001b[0m, in \u001b[0;36mAxes.pcolormesh\u001b[0;34m(self, alpha, norm, cmap, vmin, vmax, shading, antialiased, *args, **kwargs)\u001b[0m\n\u001b[1;32m   6130\u001b[0m shading \u001b[39m=\u001b[39m shading\u001b[39m.\u001b[39mlower()\n\u001b[1;32m   6131\u001b[0m kwargs\u001b[39m.\u001b[39msetdefault(\u001b[39m'\u001b[39m\u001b[39medgecolors\u001b[39m\u001b[39m'\u001b[39m, \u001b[39m'\u001b[39m\u001b[39mnone\u001b[39m\u001b[39m'\u001b[39m)\n\u001b[0;32m-> 6133\u001b[0m X, Y, C, shading \u001b[39m=\u001b[39m \u001b[39mself\u001b[39;49m\u001b[39m.\u001b[39;49m_pcolorargs(\u001b[39m'\u001b[39;49m\u001b[39mpcolormesh\u001b[39;49m\u001b[39m'\u001b[39;49m, \u001b[39m*\u001b[39;49margs,\n\u001b[1;32m   6134\u001b[0m                                     shading\u001b[39m=\u001b[39;49mshading, kwargs\u001b[39m=\u001b[39;49mkwargs)\n\u001b[1;32m   6135\u001b[0m coords \u001b[39m=\u001b[39m np\u001b[39m.\u001b[39mstack([X, Y], axis\u001b[39m=\u001b[39m\u001b[39m-\u001b[39m\u001b[39m1\u001b[39m)\n\u001b[1;32m   6136\u001b[0m \u001b[39m# convert to one dimensional array\u001b[39;00m\n",
      "File \u001b[0;32m/opt/homebrew/lib/python3.11/site-packages/matplotlib/axes/_axes.py:5636\u001b[0m, in \u001b[0;36mAxes._pcolorargs\u001b[0;34m(self, funcname, shading, *args, **kwargs)\u001b[0m\n\u001b[1;32m   5634\u001b[0m         \u001b[39mif\u001b[39;00m \u001b[39misinstance\u001b[39m(Y, np\u001b[39m.\u001b[39mma\u001b[39m.\u001b[39mcore\u001b[39m.\u001b[39mMaskedArray):\n\u001b[1;32m   5635\u001b[0m             Y \u001b[39m=\u001b[39m Y\u001b[39m.\u001b[39mdata\n\u001b[0;32m-> 5636\u001b[0m     nrows, ncols \u001b[39m=\u001b[39m C\u001b[39m.\u001b[39mshape\n\u001b[1;32m   5637\u001b[0m \u001b[39melse\u001b[39;00m:\n\u001b[1;32m   5638\u001b[0m     \u001b[39mraise\u001b[39;00m \u001b[39mTypeError\u001b[39;00m(\u001b[39mf\u001b[39m\u001b[39m'\u001b[39m\u001b[39m{\u001b[39;00mfuncname\u001b[39m}\u001b[39;00m\u001b[39m() takes 1 or 3 positional arguments \u001b[39m\u001b[39m'\u001b[39m\n\u001b[1;32m   5639\u001b[0m                     \u001b[39mf\u001b[39m\u001b[39m'\u001b[39m\u001b[39mbut \u001b[39m\u001b[39m{\u001b[39;00m\u001b[39mlen\u001b[39m(args)\u001b[39m}\u001b[39;00m\u001b[39m were given\u001b[39m\u001b[39m'\u001b[39m)\n",
      "\u001b[0;31mValueError\u001b[0m: not enough values to unpack (expected 2, got 1)"
     ]
    },
    {
     "data": {
      "image/png": "[encoded data removed]",
      "text/plain": [
       "<Figure size 600x600 with 1 Axes>"
      ]
     },
     "metadata": {},
     "output_type": "display_data"
    }
   ],
   "source": [
    "# scale coordinates in units [RE] \n",
    "# rscale = lshell_dat/RE\n",
    "\n",
    "# scale drift time in units [hr]\n",
    "tscale = [val/3600 for val in tdrift_dat]\n",
    "\n",
    "fig, axes = plt.subplots(nrows=1, ncols=1, squeeze=False, figsize=(6,6))\n",
    "ax1 = axes[0, 0]\n",
    "\n",
    "# plot convection potential\n",
    "#plot1 = ax1.pcolormesh(lshell_dat, energy_dat, tscale, cmap ='Greens', shading='nearest')\n",
    "plot1 = ax1.pcolormesh(lshell_dat, energy_dat, tscale, cmap ='Greens', shading='nearest')\n",
    "fig.colorbar(plot1, ax=ax1, pad=0.13, fraction=0.04, label=\"Drift Time [hr]\")\n"
   ]
  },
  {
   "cell_type": "code",
   "execution_count": null,
   "metadata": {},
   "outputs": [
    {
     "ename": "ValueError",
     "evalue": "not enough values to unpack (expected 2, got 1)",
     "output_type": "error",
     "traceback": [
      "\u001b[0;31m---------------------------------------------------------------------------\u001b[0m",
      "\u001b[0;31mValueError\u001b[0m                                Traceback (most recent call last)",
      "\u001b[1;32m/home/dionysus-dev/cdev/unh-srl/imef/particle-tracing/boris-tracing/dist_plots.ipynb Cell 18\u001b[0m in \u001b[0;36m<cell line: 2>\u001b[0;34m()\u001b[0m\n\u001b[1;32m      <a href='vscode-notebook-cell://wsl%2Bubuntu/home/dionysus-dev/cdev/unh-srl/imef/particle-tracing/boris-tracing/dist_plots.ipynb#X50sdnNjb2RlLXJlbW90ZQ%3D%3D?line=0'>1</a>\u001b[0m fig, ax \u001b[39m=\u001b[39m plt\u001b[39m.\u001b[39msubplots(nrows\u001b[39m=\u001b[39m\u001b[39m1\u001b[39m, ncols\u001b[39m=\u001b[39m\u001b[39m1\u001b[39m)\n\u001b[0;32m----> <a href='vscode-notebook-cell://wsl%2Bubuntu/home/dionysus-dev/cdev/unh-srl/imef/particle-tracing/boris-tracing/dist_plots.ipynb#X50sdnNjb2RlLXJlbW90ZQ%3D%3D?line=1'>2</a>\u001b[0m im \u001b[39m=\u001b[39m ax\u001b[39m.\u001b[39;49mpcolorfast(lshell_dat, energy_dat, tscale)\n\u001b[1;32m      <a href='vscode-notebook-cell://wsl%2Bubuntu/home/dionysus-dev/cdev/unh-srl/imef/particle-tracing/boris-tracing/dist_plots.ipynb#X50sdnNjb2RlLXJlbW90ZQ%3D%3D?line=2'>3</a>\u001b[0m ax\u001b[39m.\u001b[39mimages\u001b[39m.\u001b[39mappend(im)\n\u001b[1;32m      <a href='vscode-notebook-cell://wsl%2Bubuntu/home/dionysus-dev/cdev/unh-srl/imef/particle-tracing/boris-tracing/dist_plots.ipynb#X50sdnNjb2RlLXJlbW90ZQ%3D%3D?line=3'>4</a>\u001b[0m ax\u001b[39m.\u001b[39mset_title(title)\n",
      "File \u001b[0;32m~/.local/lib/python3.8/site-packages/matplotlib-3.5.2-py3.8-linux-x86_64.egg/matplotlib/__init__.py:1412\u001b[0m, in \u001b[0;36m_preprocess_data.<locals>.inner\u001b[0;34m(ax, data, *args, **kwargs)\u001b[0m\n\u001b[1;32m   1409\u001b[0m \u001b[39m@functools\u001b[39m\u001b[39m.\u001b[39mwraps(func)\n\u001b[1;32m   1410\u001b[0m \u001b[39mdef\u001b[39;00m \u001b[39minner\u001b[39m(ax, \u001b[39m*\u001b[39margs, data\u001b[39m=\u001b[39m\u001b[39mNone\u001b[39;00m, \u001b[39m*\u001b[39m\u001b[39m*\u001b[39mkwargs):\n\u001b[1;32m   1411\u001b[0m     \u001b[39mif\u001b[39;00m data \u001b[39mis\u001b[39;00m \u001b[39mNone\u001b[39;00m:\n\u001b[0;32m-> 1412\u001b[0m         \u001b[39mreturn\u001b[39;00m func(ax, \u001b[39m*\u001b[39;49m\u001b[39mmap\u001b[39;49m(sanitize_sequence, args), \u001b[39m*\u001b[39;49m\u001b[39m*\u001b[39;49mkwargs)\n\u001b[1;32m   1414\u001b[0m     bound \u001b[39m=\u001b[39m new_sig\u001b[39m.\u001b[39mbind(ax, \u001b[39m*\u001b[39margs, \u001b[39m*\u001b[39m\u001b[39m*\u001b[39mkwargs)\n\u001b[1;32m   1415\u001b[0m     auto_label \u001b[39m=\u001b[39m (bound\u001b[39m.\u001b[39marguments\u001b[39m.\u001b[39mget(label_namer)\n\u001b[1;32m   1416\u001b[0m                   \u001b[39mor\u001b[39;00m bound\u001b[39m.\u001b[39mkwargs\u001b[39m.\u001b[39mget(label_namer))\n",
      "File \u001b[0;32m~/.local/lib/python3.8/site-packages/matplotlib-3.5.2-py3.8-linux-x86_64.egg/matplotlib/axes/_axes.py:6212\u001b[0m, in \u001b[0;36mAxes.pcolorfast\u001b[0;34m(self, alpha, norm, cmap, vmin, vmax, *args, **kwargs)\u001b[0m\n\u001b[1;32m   6099\u001b[0m \u001b[39m\"\"\"\u001b[39;00m\n\u001b[1;32m   6100\u001b[0m \u001b[39mCreate a pseudocolor plot with a non-regular rectangular grid.\u001b[39;00m\n\u001b[1;32m   6101\u001b[0m \n\u001b[0;32m   (...)\u001b[0m\n\u001b[1;32m   6208\u001b[0m \u001b[39m    See return types of *image* for further description.\u001b[39;00m\n\u001b[1;32m   6209\u001b[0m \u001b[39m\"\"\"\u001b[39;00m\n\u001b[1;32m   6211\u001b[0m C \u001b[39m=\u001b[39m args[\u001b[39m-\u001b[39m\u001b[39m1\u001b[39m]\n\u001b[0;32m-> 6212\u001b[0m nr, nc \u001b[39m=\u001b[39m np\u001b[39m.\u001b[39mshape(C)[:\u001b[39m2\u001b[39m]\n\u001b[1;32m   6213\u001b[0m \u001b[39mif\u001b[39;00m \u001b[39mlen\u001b[39m(args) \u001b[39m==\u001b[39m \u001b[39m1\u001b[39m:\n\u001b[1;32m   6214\u001b[0m     style \u001b[39m=\u001b[39m \u001b[39m\"\u001b[39m\u001b[39mimage\u001b[39m\u001b[39m\"\u001b[39m\n",
      "\u001b[0;31mValueError\u001b[0m: not enough values to unpack (expected 2, got 1)"
     ]
    },
    {
     "data": {
      "image/png": "[encoded data removed]",
      "text/plain": [
       "<Figure size 432x288 with 1 Axes>"
      ]
     },
     "metadata": {
      "needs_background": "light"
     },
     "output_type": "display_data"
    }
   ],
   "source": [
    "fig, ax = plt.subplots(nrows=1, ncols=1)\n",
    "im = ax.pcolorfast(lshell_dat, energy_dat, tscale)\n",
    "ax.images.append(im)\n",
    "ax.set_title(title)\n",
    "ax.set_ylabel('f (Hz)')\n",
    "ax.set_ylim(f[1], f[-1])\n",
    "ax.set_yscale('log')\n"
   ]
  },
  {
   "cell_type": "code",
   "execution_count": null,
   "metadata": {},
   "outputs": [],
   "source": [
    "v0ff = vdat[-1]\n",
    "r0ff = rdat[-1]"
   ]
  },
  {
   "cell_type": "markdown",
   "metadata": {},
   "source": []
  },
  {
   "cell_type": "code",
   "execution_count": null,
   "metadata": {},
   "outputs": [
    {
     "name": "stdout",
     "output_type": "stream",
     "text": [
      "fw initial velcoity [m/s]:  [11.48004243  2.45958841 -0.49026657]\n",
      "fw initial position [RE]:  [ 1.   -3.85 -1.53]\n",
      "fw final velcoity /bw initial [m/s]:  [  67993.41814924 -221671.17466222  124795.84882849]\n",
      "fw final position /bw initial  [RE]:  [ 1.15545419 -4.50529965 -1.31675769]\n",
      "fw final velcoity [m/s]:  [ 7.01483771 -2.71809189  0.93727042]\n",
      "fw final position [RE]:  [ 1.00000083 -3.8500019  -1.52999923]\n",
      "mag(v0) =  11.750800425965295 mag(vf) =  7.581190368769779\n",
      "[ 1.00000083 -3.8500019  -1.52999923]\n"
     ]
    }
   ],
   "source": [
    "print('fw initial velcoity [m/s]: ',v0f0)\n",
    "print('fw initial position [RE]: ',r0f0/RE) \n",
    "print('fw final velcoity /bw initial [m/s]: ',v0ff) \n",
    "print('fw final position /bw initial  [RE]: ',r0ff/RE)\n",
    "\n",
    "print('fw final velcoity [m/s]: ',vdat[-1]) \n",
    "print('fw final position [RE]: ',rdat[-1]/RE)\n",
    "\n",
    "\n",
    "print('mag(v0) = ',mag(v0f0),'mag(vf) = ',mag(vdat[-1]))\n",
    "\n",
    "print(rdat[-1]/RE)"
   ]
  },
  {
   "cell_type": "code",
   "execution_count": null,
   "metadata": {},
   "outputs": [
    {
     "ename": "NameError",
     "evalue": "name 'en' is not defined",
     "output_type": "error",
     "traceback": [
      "\u001b[0;31m---------------------------------------------------------------------------\u001b[0m",
      "\u001b[0;31mNameError\u001b[0m                                 Traceback (most recent call last)",
      "\u001b[1;32m/home/dionysus-dev/cdev/unh-srl/imef/particle-tracing/boris-tracing/dist_plots.ipynb Cell 24\u001b[0m in \u001b[0;36m<cell line: 2>\u001b[0;34m()\u001b[0m\n\u001b[1;32m      <a href='vscode-notebook-cell://wsl%2Bubuntu/home/dionysus-dev/cdev/unh-srl/imef/particle-tracing/boris-tracing/dist_plots.ipynb#X32sdnNjb2RlLXJlbW90ZQ%3D%3D?line=0'>1</a>\u001b[0m \u001b[39m# velcoity magnitude\u001b[39;00m\n\u001b[0;32m----> <a href='vscode-notebook-cell://wsl%2Bubuntu/home/dionysus-dev/cdev/unh-srl/imef/particle-tracing/boris-tracing/dist_plots.ipynb#X32sdnNjb2RlLXJlbW90ZQ%3D%3D?line=1'>2</a>\u001b[0m vmag \u001b[39m=\u001b[39m np\u001b[39m.\u001b[39msqrt(\u001b[39m2\u001b[39m\u001b[39m*\u001b[39men\u001b[39m*\u001b[39m(\u001b[39m1\u001b[39m\u001b[39m/\u001b[39mmo))\n\u001b[1;32m      <a href='vscode-notebook-cell://wsl%2Bubuntu/home/dionysus-dev/cdev/unh-srl/imef/particle-tracing/boris-tracing/dist_plots.ipynb#X32sdnNjb2RlLXJlbW90ZQ%3D%3D?line=4'>5</a>\u001b[0m \u001b[39m# velcoity components\u001b[39;00m\n\u001b[1;32m      <a href='vscode-notebook-cell://wsl%2Bubuntu/home/dionysus-dev/cdev/unh-srl/imef/particle-tracing/boris-tracing/dist_plots.ipynb#X32sdnNjb2RlLXJlbW90ZQ%3D%3D?line=5'>6</a>\u001b[0m vx \u001b[39m=\u001b[39m vmag\u001b[39m*\u001b[39mnp\u001b[39m.\u001b[39msin(theta1)\u001b[39m*\u001b[39mnp\u001b[39m.\u001b[39mcos(phi1)\n",
      "\u001b[0;31mNameError\u001b[0m: name 'en' is not defined"
     ]
    }
   ],
   "source": [
    "# velcoity magnitude\n",
    "vmag = np.sqrt(2*en*(1/mo))\n",
    "\n",
    "\n",
    "# velcoity components\n",
    "vx = vmag*np.sin(theta1)*np.cos(phi1)\n",
    "vy = vmag*np.sin(theta1)*np.sin(phi1)\n",
    "vz = vmag*np.cos(theta1)"
   ]
  },
  {
   "cell_type": "code",
   "execution_count": null,
   "metadata": {},
   "outputs": [],
   "source": [
    "ne = 5e5*1e6\n",
    "me = 9.109e-31\n",
    "e = 1.602e-19\n",
    "e0 = 8.854e-12\n",
    "wpe = np.sqrt((ne*e**2)/(e0*me))\n",
    "wce = (e*b)/me\n",
    "\n",
    "b = 3e-5"
   ]
  },
  {
   "cell_type": "code",
   "execution_count": null,
   "metadata": {},
   "outputs": [
    {
     "data": {
      "text/plain": [
       "16965.09272764181"
      ]
     },
     "execution_count": 20,
     "metadata": {},
     "output_type": "execute_result"
    }
   ],
   "source": [
    "(4.8065e-19/1.67e-27)**(1/2)"
   ]
  },
  {
   "cell_type": "markdown",
   "metadata": {},
   "source": [
    "Step 4. "
   ]
  }
 ],
 "metadata": {
  "kernelspec": {
   "display_name": "Python 3.8.10 64-bit",
   "language": "python",
   "name": "python3"
  },
  "language_info": {
   "codemirror_mode": {
    "name": "ipython",
    "version": 3
   },
   "file_extension": ".py",
   "mimetype": "text/x-python",
   "name": "python",
   "nbconvert_exporter": "python",
   "pygments_lexer": "ipython3",
   "version": "3.11.2"
  },
  "orig_nbformat": 4,
  "vscode": {
   "interpreter": {
    "hash": "916dbcbb3f70747c44a77c7bcd40155683ae19c65e1c03b4aa3499c5328201f1"
   }
  }
 },
 "nbformat": 4,
 "nbformat_minor": 2
}
