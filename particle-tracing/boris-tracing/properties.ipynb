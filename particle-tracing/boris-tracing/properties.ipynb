{
 "cells": [
  {
   "cell_type": "code",
   "execution_count": 41,
   "metadata": {},
   "outputs": [],
   "source": [
    "import numpy as np\n",
    "import math\n",
    "from matplotlib import pyplot as plt, dates as mdates\n",
    "from mpl_toolkits.axes_grid1.inset_locator import inset_axes\n",
    "import matplotlib.ticker as ticker\n",
    "from matplotlib.patches import Circle\n",
    "from mpl_toolkits.mplot3d import Axes3D\n",
    "import datetime as dt\n",
    "import time\n",
    "\n",
    "import pymms.data\n",
    "from pymms.data import util, edi, fpi, anc\n"
   ]
  },
  {
   "cell_type": "markdown",
   "metadata": {},
   "source": [
    "Using energy distribution to get tracing input properties"
   ]
  },
  {
   "cell_type": "markdown",
   "metadata": {},
   "source": []
  },
  {
   "cell_type": "code",
   "execution_count": 66,
   "metadata": {},
   "outputs": [
    {
     "name": "stdout",
     "output_type": "stream",
     "text": [
      "Initial position: [-1.32524609e+08 -1.21099825e+08  1.19983069e+07] m\n",
      "Initial velcoity: [22128.826   -9500.764    -558.14594] m/s\n"
     ]
    }
   ],
   "source": [
    "import numpy as np\n",
    "import math\n",
    "from matplotlib import pyplot as plt, dates as mdates\n",
    "from mpl_toolkits.axes_grid1.inset_locator import inset_axes\n",
    "import matplotlib.ticker as ticker\n",
    "from matplotlib.patches import Circle\n",
    "from mpl_toolkits.mplot3d import Axes3D\n",
    "import datetime as dt\n",
    "import time\n",
    "\n",
    "import pymms.data\n",
    "from pymms.data import util, edi, fpi, anc\n",
    "\n",
    "'''\n",
    "0. Setup. Get input paramters at time 't0'\n",
    "'''\n",
    "t0 = dt.datetime(2020, 6, 29, 0)\n",
    "t1 = dt.datetime(2020, 6, 29, 12)\n",
    "\n",
    "'''\n",
    "1. Getting particle position using MMS spacecraft position\n",
    "'''\n",
    "\n",
    "# pull dataset\n",
    "r_vname = '_'.join(('mms1', 'mec', 'r', 'gse'))\n",
    "mec_data = util.load_data(sc='mms1', \n",
    "                        instr='mec', mode='srvy', \n",
    "                        level='l2', optdesc='epht89d', \n",
    "                        start_date=t0, \n",
    "                        end_date=t1, \n",
    "                        variables=r_vname)\n",
    "\n",
    "# get mms position at t0  in [km/s] and convert to array\n",
    "pos = mec_data['mms1_mec_r_gse'][0].to_numpy()\n",
    "\n",
    "# convert to [m/s]\n",
    "pos=pos*1e3\n",
    "\n",
    "print(f\"Initial position: {pos} m\")\n",
    "\n",
    "'''\n",
    "2. Getting particle velocity using MMS1 FPI/DIS ion bulk-velocity vector in DBCS during specified survey\n",
    "'''\n",
    "\n",
    "# pull dataset\n",
    "dis_data = fpi.load_moms(sc='mms1', mode='srvy', optdesc='dis-moms', start_date=t0, end_date=t1)\n",
    "\n",
    "# get ion velocity vector in [km/s]\n",
    "vel = dis_data['velocity'][0].to_numpy()\n",
    "\n",
    "# convert to [m/s]\n",
    "vel = vel*1e3\n",
    "print(f\"Initial velcoity: {vel} m/s\")"
   ]
  },
  {
   "cell_type": "code",
   "execution_count": 43,
   "metadata": {},
   "outputs": [
    {
     "name": "stdout",
     "output_type": "stream",
     "text": [
      "Initial position: [-1.32524609e+08 -1.21099825e+08  1.19983069e+07] m\n"
     ]
    }
   ],
   "source": [
    "'''\n",
    "1. Getting particle position using MMS spacecraft position\n",
    "'''\n",
    "\n",
    "# pull dataset\n",
    "r_vname = '_'.join(('mms1', 'mec', 'r', 'gse'))\n",
    "mec_data = util.load_data(sc='mms1', \n",
    "                        instr='mec', mode='srvy', \n",
    "                        level='l2', optdesc='epht89d', \n",
    "                        start_date=t0, \n",
    "                        end_date=t1, \n",
    "                        variables=r_vname)\n",
    "\n",
    "# get mms position at t0  in [km/s] and convert to array\n",
    "pos = mec_data['mms1_mec_r_gse'][0].to_numpy()\n",
    "\n",
    "# convert to [m/s]\n",
    "pos=pos*1e3\n",
    "\n",
    "print(f\"Initial position: {pos} m\")\n",
    "\n"
   ]
  },
  {
   "cell_type": "code",
   "execution_count": 44,
   "metadata": {},
   "outputs": [
    {
     "name": "stdout",
     "output_type": "stream",
     "text": [
      "Initial velcoity: [22128.826   -9500.764    -558.14594] m/s\n"
     ]
    }
   ],
   "source": [
    "'''\n",
    "2. Getting particle velocity using MMS1 FPI/DIS ion bulk-velocity vector in DBCS during specified survey\n",
    "'''\n",
    "\n",
    "# pull dataset\n",
    "dis_data = fpi.load_moms(sc='mms1', mode='srvy', optdesc='dis-moms', start_date=t0, end_date=t1)\n",
    "\n",
    "# get ion velocity vector in [km/s]\n",
    "vel = dis_data['velocity'][0].to_numpy()\n",
    "\n",
    "# convert to [m/s]\n",
    "vel = vel*1e3\n",
    "print(f\"Initial velcoity: {vel} m/s\")"
   ]
  },
  {
   "cell_type": "markdown",
   "metadata": {},
   "source": [
    "### Plots & Figures - ignore, WIP\n",
    "\n"
   ]
  },
  {
   "cell_type": "code",
   "execution_count": 64,
   "metadata": {},
   "outputs": [],
   "source": [
    "\n",
    "def plot_2d(t, f, z, ax=None, cmap='nipy_spectral', label='', title='', xaxis=True):\n",
    "    '''\n",
    "    Plot a 2D heat map.\n",
    "    \n",
    "    Parameters\n",
    "    ----------\n",
    "    t : `numpy.datetime64`[N]\n",
    "        Timestamps of the data\n",
    "    f : `numpy.array`[M]\n",
    "        Vector to be plotted\n",
    "    z : `numpy.array`[N,M]\n",
    "        Quantity to be plotted as a heat map.\n",
    "    ax : `pyplot.axes`\n",
    "        Axes in which to plot the heatmap. If not provided, a new figure and axes are created.\n",
    "    cmap : str\n",
    "        The colormap used to represent the heatmap\n",
    "    label : str\n",
    "        Label for the colorbar\n",
    "    title : str\n",
    "        Title for the plot\n",
    "    xaxis : bool\n",
    "        Put axis labels and tickmarks on the x-axis\n",
    "    '''\n",
    "    \n",
    "    if ax is None:\n",
    "        fig, ax = plt.subplots(nrows=1, ncols=1)\n",
    "\n",
    "    locator = mdates.AutoDateLocator()\n",
    "    formatter = mdates.ConciseDateFormatter(locator)\n",
    "\n",
    "    x0 = mdates.date2num(t)[:, np.newaxis].repeat(len(f), axis=1)\n",
    "    x1 = f[np.newaxis, :].repeat(len(t), axis=0)\n",
    "\n",
    "    im = ax.pcolorfast(x0, x1, z[0:-1, 0:-1], cmap=cmap)\n",
    "    ax.images.append(im)\n",
    "    ax.set_title(title)\n",
    "    ax.set_ylabel('f (Hz)')\n",
    "    ax.set_ylim(f[1], f[-1])\n",
    "    ax.set_yscale('log')\n",
    "    \n",
    "    # t0 position\n",
    "    \n",
    "    xpos = dis_data['time'].data[300]\n",
    "    ax.axvline(x = xpos, color = 'b', label = 'axvline - full height', zorder=20)\n",
    "    \n",
    "\n",
    "    if xaxis:\n",
    "        ax.xaxis.set_major_locator(locator)\n",
    "        ax.xaxis.set_major_formatter(formatter)\n",
    "        for tick in ax.get_xticklabels():\n",
    "            tick.set_rotation(45)\n",
    "    else:\n",
    "        ax.set_xticklabels([])\n",
    "        ax.set_xlabel('')\n",
    "\n",
    "    cbaxes = inset_axes(ax,\n",
    "                        width='2%', height='100%', loc=4,\n",
    "                        bbox_to_anchor=(0, 0, 1.05, 1),\n",
    "                        bbox_transform=ax.transAxes,\n",
    "                        borderpad=0)\n",
    "    cb = plt.colorbar(im, cax=cbaxes, orientation='vertical')\n",
    "    cb.set_label(label)"
   ]
  },
  {
   "cell_type": "code",
   "execution_count": 63,
   "metadata": {},
   "outputs": [
    {
     "data": {
      "image/png": "[encoded data removed]",
      "text/plain": [
       "<Figure size 432x288 with 4 Axes>"
      ]
     },
     "metadata": {
      "needs_background": "light"
     },
     "output_type": "display_data"
    }
   ],
   "source": [
    "a = np.ma.log10(dis_data['omnispectr'].data)\n",
    " \n",
    "fig, axes = plt.subplots(nrows=3, ncols=1, squeeze=False)\n",
    "locator = mdates.AutoDateLocator()\n",
    "formatter = mdates.ConciseDateFormatter(locator)\n",
    " \n",
    "ax = axes[0,0]\n",
    "plot_2d(dis_data['time'].data, dis_data['energy'][0,:].data, a, ax=ax, xaxis=False)\n",
    " \n",
    "ax = axes[1,0]\n",
    "dis_data['density'].plot(ax=ax)\n",
    "ax.set_title('')\n",
    "ax.set_xticklabels([])\n",
    "ax.set_xlabel('')\n",
    " \n",
    "ax = axes[2,0]\n",
    "dis_data['velocity'][:,0].plot(ax=ax, label='Vx')\n",
    "dis_data['velocity'][:,1].plot(ax=ax, label='Vy')\n",
    "dis_data['velocity'][:,2].plot(ax=ax, label='Vz')\n",
    "ax.set_title('')\n",
    " \n",
    "ax.xaxis.set_major_locator(locator)\n",
    "ax.xaxis.set_major_formatter(formatter)\n",
    "for tick in ax.get_xticklabels():\n",
    "    tick.set_rotation(45)\n",
    " \n",
    "legend = ax.legend(loc=\"upper left\", bbox_to_anchor=(1,1))\n",
    " \n",
    "# plt.setp(axes, xlim=(t2, t3))\n",
    "plt.show()"
   ]
  },
  {
   "cell_type": "code",
   "execution_count": 46,
   "metadata": {},
   "outputs": [
    {
     "data": {
      "text/plain": [
       "numpy.datetime64('2020-06-29T00:00:05.850412872')"
      ]
     },
     "execution_count": 46,
     "metadata": {},
     "output_type": "execute_result"
    }
   ],
   "source": [
    "dis_data['time'].data[0]"
   ]
  }
 ],
 "metadata": {
  "kernelspec": {
   "display_name": "Python 3.8.10 64-bit",
   "language": "python",
   "name": "python3"
  },
  "language_info": {
   "codemirror_mode": {
    "name": "ipython",
    "version": 3
   },
   "file_extension": ".py",
   "mimetype": "text/x-python",
   "name": "python",
   "nbconvert_exporter": "python",
   "pygments_lexer": "ipython3",
   "version": "3.8.10"
  },
  "orig_nbformat": 4,
  "vscode": {
   "interpreter": {
    "hash": "916dbcbb3f70747c44a77c7bcd40155683ae19c65e1c03b4aa3499c5328201f1"
   }
  }
 },
 "nbformat": 4,
 "nbformat_minor": 2
}
