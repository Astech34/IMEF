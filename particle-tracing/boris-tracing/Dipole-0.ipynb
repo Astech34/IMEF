{
 "cells": [
  {
   "cell_type": "code",
   "execution_count": 1,
   "id": "5ba1104b",
   "metadata": {},
   "outputs": [],
   "source": [
    "import numpy as np\n",
    "import math\n",
    "import matplotlib.pyplot as plt\n",
    "import matplotlib.ticker as ticker\n",
    "from matplotlib.patches import Circle\n",
    "from mpl_toolkits.mplot3d import Axes3D\n",
    "import time\n",
    "\n",
    "# Use %matplotlib notebook to change to a zoom-able display.\n",
    "%matplotlib inline"
   ]
  },
  {
   "cell_type": "markdown",
   "id": "1e0b441a",
   "metadata": {},
   "source": [
    "# Charged Particle Motion: Dipole-0\n",
    "Boris particle tracing code for computing charged particle motion in Earth's Magnetopshere with dipole magnetic field and $E=0$."
   ]
  },
  {
   "cell_type": "markdown",
   "id": "6ae365d9",
   "metadata": {},
   "source": [
    "### earth3D\n",
    "\n",
    "Function to create and plot a 3D earth"
   ]
  },
  {
   "cell_type": "code",
   "execution_count": 2,
   "id": "e76a4155",
   "metadata": {},
   "outputs": [],
   "source": [
    "    def earth3D(rad):\n",
    "        '''\n",
    "        rad is in earth radii [RE]\n",
    "\n",
    "        '''\n",
    "        ns     = 100 # numbner samples\n",
    "        stride = 1\n",
    "\n",
    "        # phi; goes from [0:2*PI]\n",
    "        phi = np.linspace(0.,2.*np.pi,ns)\n",
    "\n",
    "        # theta; goes from [0:PI]\n",
    "        tht = np.linspace(0.,np.pi,ns)\n",
    "\n",
    "        x = rad*np.outer(np.cos(phi), np.sin(tht))\n",
    "        y = rad*np.outer(np.sin(phi), np.sin(tht))\n",
    "        z = rad*np.outer(np.ones(np.size(phi)), np.cos(tht))\n",
    "\n",
    "        ax.plot_surface(x, y, z, linewidth=0.0, cstride=stride, rstride=stride, color = 'b')\n",
    "    \n"
   ]
  },
  {
   "cell_type": "markdown",
   "id": "8110d163",
   "metadata": {},
   "source": [
    "### Magnetic field - Dipole\n",
    "\n",
    "Earth's dipole field in terms of magnetic dipole moment $|\\vec{m}|=7.79 \\times 10^{22} \\mathrm{Am}^{2}$, \n",
    "\n",
    "$$\\vec{B}=\\frac{\\mu_{0}}{4 \\pi r^{3}}[3(\\vec{m} \\cdot \\hat{r}) \\hat{r}-\\vec{m}] \\tag{Garcia-Farieta 2019; 1}$$"
   ]
  },
  {
   "cell_type": "code",
   "execution_count": 4,
   "id": "2f1b8d15",
   "metadata": {},
   "outputs": [],
   "source": [
    "\n",
    "def B(r):\n",
    "    \n",
    "    phi = np.radians(11.7)                                  # tilt of magnetic axis [rad]\n",
    "    mu = -7.94e22*np.array([.0, np.sin(phi), np.cos(phi)])  # magnetic moment of earth [A*m^2]\n",
    "    M0 = 1.0e-7                                             # mu_0 [N*A−2] /4*PI \n",
    "    RE = 6371000                                            # equatorial radius of Earth [m] \n",
    "    \n",
    "    r = r*RE\n",
    "    rmag = np.sqrt(np.dot(r, r))\n",
    "    \n",
    "    Bdip = M0*(3.*r*np.dot(mu,r)/(rmag**5)-mu/(rmag**3))\n",
    "    return Bdip"
   ]
  },
  {
   "cell_type": "markdown",
   "id": "f0e967f9",
   "metadata": {},
   "source": [
    "## Main\n",
    "Computes motion of an electric charge in a magnetic dipole field using Boris particle pushing method."
   ]
  },
  {
   "cell_type": "code",
   "execution_count": 7,
   "id": "90e9777d",
   "metadata": {},
   "outputs": [],
   "source": [
    "from tqdm import tqdm"
   ]
  },
  {
   "cell_type": "code",
   "execution_count": 35,
   "id": "4a758cf5",
   "metadata": {},
   "outputs": [
    {
     "name": "stdout",
     "output_type": "stream",
     "text": [
      "s 600000\n"
     ]
    },
    {
     "data": {
      "text/plain": [
       "'\\n# sample conditions for ref.\\n\\nrdat[0] = np.array([1., -7.85, -1.53])\\nvdat[0] = np.array([0.,.3,.3])\\n\\n'"
      ]
     },
     "execution_count": 35,
     "metadata": {},
     "output_type": "execute_result"
    }
   ],
   "source": [
    "# start time\n",
    "time_start = time.time()\n",
    "\n",
    "mp = 1.6e-27           # proton mass [kg]\n",
    "me = 9.1e-31           # electron mass [kg]\n",
    "qe = 1.603E-19         # proton charge [C]\n",
    "\n",
    "dt = 0.01\n",
    "tf = 6000\n",
    "steps = int(tf/dt)\n",
    "print('s',steps)\n",
    "\n",
    "tdat = np.zeros(steps)\n",
    "rdat = np.zeros((steps,3))\n",
    "vdat =  np.zeros((steps,3))\n",
    "\n",
    "# creating charged particle\n",
    "m = 4.*mp\n",
    "q = 2.*qe\n",
    "\n",
    "\n",
    "# set initial conditions\n",
    "rdat[0] = np.array([1., -7.85, -1.53])\n",
    "vdat[0] = np.array([0.,.3,.3])\n",
    "\n",
    "'''\n",
    "# sample conditions for ref.\n",
    "\n",
    "rdat[0] = np.array([1., -7.85, -1.53])\n",
    "vdat[0] = np.array([0.,.3,.3])\n",
    "\n",
    "'''"
   ]
  },
  {
   "cell_type": "code",
   "execution_count": 14,
   "id": "2ccd72c2",
   "metadata": {},
   "outputs": [
    {
     "name": "stdout",
     "output_type": "stream",
     "text": [
      "tdat, tdrift,  vdat, rdat, emag = b.boris(tf=6000,r0=[1.0000, -7.8500, -1.5300],v0=[0.0000, 0.3000, 0.3000],m=6.4000e-27,q=3.2060e-19,gs=2.00,kp=8.5, tdir=\"bw\")\n"
     ]
    }
   ],
   "source": [
    "print('tdat, tdrift,  vdat, rdat, emag = b.boris(tf={0:0d},'\n",
    "                                                'r0=[{1:0.4f}, {2:0.4f}, {3:0.4f}],'\n",
    "                                                'v0=[{4:0.4f}, {5:0.4f}, {6:0.4f}],'\n",
    "                                                'm={7:0.4e},'\n",
    "                                                'q={8:0.4e},'\n",
    "                                                'gs={9:1.2f},'\n",
    "                                                'kp={10:2.1f}, tdir=\"bw\")'\n",
    "      .format(tf, *rdat[0], *vdat[0], m, q, 2.0, 8.5))"
   ]
  },
  {
   "cell_type": "code",
   "execution_count": 38,
   "id": "cbf3fd80",
   "metadata": {},
   "outputs": [
    {
     "name": "stderr",
     "output_type": "stream",
     "text": [
      "\r",
      "  0%|          | 0/599999 [00:00<?, ?it/s]"
     ]
    },
    {
     "name": "stdout",
     "output_type": "stream",
     "text": [
      "> <ipython-input-38-3ecbc4796466>(34)<module>()\n",
      "-> vdat[i+1] = vnew\n",
      "(Pdb) v2\n",
      "array([0.01478482, 0.30108964, 0.29854058])\n",
      "(Pdb) rnew\n",
      "array([ 1.00014785, -7.8469891 , -1.52701459])\n",
      "(Pdb) rnew/RE\n",
      "array([ 1.56984437e-07, -1.23167307e-06, -2.39682090e-07])\n",
      "(Pdb) rnew\n",
      "array([ 1.00014785, -7.8469891 , -1.52701459])\n",
      "(Pdb) print(r)\n",
      "[ 1.   -7.85 -1.53]\n",
      "(Pdb) rnew\n",
      "array([ 1.00014785, -7.8469891 , -1.52701459])\n",
      "(Pdb) vnew\n",
      "array([0.01478482, 0.30108964, 0.29854058])\n",
      "(Pdb) v\n",
      "array([0. , 0.3, 0.3])\n",
      "(Pdb) print(r)\n",
      "[ 1.   -7.85 -1.53]\n",
      "(Pdb) rnew\n",
      "array([ 1.00014785, -7.8469891 , -1.52701459])\n",
      "(Pdb) i\n",
      "0\n",
      "(Pdb) vnew\n",
      "array([0.01478482, 0.30108964, 0.29854058])\n",
      "(Pdb) rnew\n",
      "array([ 1.00014785, -7.8469891 , -1.52701459])\n",
      "(Pdb) q\n"
     ]
    },
    {
     "name": "stderr",
     "output_type": "stream",
     "text": [
      "  0%|          | 0/599999 [11:11<?, ?it/s]\n"
     ]
    },
    {
     "ename": "BdbQuit",
     "evalue": "",
     "output_type": "error",
     "traceback": [
      "\u001b[0;31m---------------------------------------------------------------------------\u001b[0m",
      "\u001b[0;31mBdbQuit\u001b[0m                                   Traceback (most recent call last)",
      "\u001b[0;32m<ipython-input-38-3ecbc4796466>\u001b[0m in \u001b[0;36m<module>\u001b[0;34m()\u001b[0m\n\u001b[1;32m     32\u001b[0m \u001b[0;34m\u001b[0m\u001b[0m\n\u001b[1;32m     33\u001b[0m         \u001b[0;31m# append to data arrays\u001b[0m\u001b[0;34m\u001b[0m\u001b[0;34m\u001b[0m\u001b[0;34m\u001b[0m\u001b[0m\n\u001b[0;32m---> 34\u001b[0;31m         \u001b[0mvdat\u001b[0m\u001b[0;34m[\u001b[0m\u001b[0mi\u001b[0m\u001b[0;34m+\u001b[0m\u001b[0;36m1\u001b[0m\u001b[0;34m]\u001b[0m \u001b[0;34m=\u001b[0m \u001b[0mvnew\u001b[0m\u001b[0;34m\u001b[0m\u001b[0;34m\u001b[0m\u001b[0m\n\u001b[0m\u001b[1;32m     35\u001b[0m         \u001b[0mrdat\u001b[0m\u001b[0;34m[\u001b[0m\u001b[0mi\u001b[0m\u001b[0;34m+\u001b[0m\u001b[0;36m1\u001b[0m\u001b[0;34m]\u001b[0m \u001b[0;34m=\u001b[0m \u001b[0mrnew\u001b[0m\u001b[0;34m\u001b[0m\u001b[0;34m\u001b[0m\u001b[0m\n",
      "\u001b[0;32m<ipython-input-38-3ecbc4796466>\u001b[0m in \u001b[0;36m<module>\u001b[0;34m()\u001b[0m\n\u001b[1;32m     32\u001b[0m \u001b[0;34m\u001b[0m\u001b[0m\n\u001b[1;32m     33\u001b[0m         \u001b[0;31m# append to data arrays\u001b[0m\u001b[0;34m\u001b[0m\u001b[0;34m\u001b[0m\u001b[0;34m\u001b[0m\u001b[0m\n\u001b[0;32m---> 34\u001b[0;31m         \u001b[0mvdat\u001b[0m\u001b[0;34m[\u001b[0m\u001b[0mi\u001b[0m\u001b[0;34m+\u001b[0m\u001b[0;36m1\u001b[0m\u001b[0;34m]\u001b[0m \u001b[0;34m=\u001b[0m \u001b[0mvnew\u001b[0m\u001b[0;34m\u001b[0m\u001b[0;34m\u001b[0m\u001b[0m\n\u001b[0m\u001b[1;32m     35\u001b[0m         \u001b[0mrdat\u001b[0m\u001b[0;34m[\u001b[0m\u001b[0mi\u001b[0m\u001b[0;34m+\u001b[0m\u001b[0;36m1\u001b[0m\u001b[0;34m]\u001b[0m \u001b[0;34m=\u001b[0m \u001b[0mrnew\u001b[0m\u001b[0;34m\u001b[0m\u001b[0;34m\u001b[0m\u001b[0m\n",
      "\u001b[0;32m/Users/argall/anaconda3/envs/imef/lib/python3.6/bdb.py\u001b[0m in \u001b[0;36mtrace_dispatch\u001b[0;34m(self, frame, event, arg)\u001b[0m\n\u001b[1;32m     49\u001b[0m             \u001b[0;32mreturn\u001b[0m \u001b[0;31m# None\u001b[0m\u001b[0;34m\u001b[0m\u001b[0;34m\u001b[0m\u001b[0m\n\u001b[1;32m     50\u001b[0m         \u001b[0;32mif\u001b[0m \u001b[0mevent\u001b[0m \u001b[0;34m==\u001b[0m \u001b[0;34m'line'\u001b[0m\u001b[0;34m:\u001b[0m\u001b[0;34m\u001b[0m\u001b[0;34m\u001b[0m\u001b[0m\n\u001b[0;32m---> 51\u001b[0;31m             \u001b[0;32mreturn\u001b[0m \u001b[0mself\u001b[0m\u001b[0;34m.\u001b[0m\u001b[0mdispatch_line\u001b[0m\u001b[0;34m(\u001b[0m\u001b[0mframe\u001b[0m\u001b[0;34m)\u001b[0m\u001b[0;34m\u001b[0m\u001b[0;34m\u001b[0m\u001b[0m\n\u001b[0m\u001b[1;32m     52\u001b[0m         \u001b[0;32mif\u001b[0m \u001b[0mevent\u001b[0m \u001b[0;34m==\u001b[0m \u001b[0;34m'call'\u001b[0m\u001b[0;34m:\u001b[0m\u001b[0;34m\u001b[0m\u001b[0;34m\u001b[0m\u001b[0m\n\u001b[1;32m     53\u001b[0m             \u001b[0;32mreturn\u001b[0m \u001b[0mself\u001b[0m\u001b[0;34m.\u001b[0m\u001b[0mdispatch_call\u001b[0m\u001b[0;34m(\u001b[0m\u001b[0mframe\u001b[0m\u001b[0;34m,\u001b[0m \u001b[0marg\u001b[0m\u001b[0;34m)\u001b[0m\u001b[0;34m\u001b[0m\u001b[0;34m\u001b[0m\u001b[0m\n",
      "\u001b[0;32m/Users/argall/anaconda3/envs/imef/lib/python3.6/bdb.py\u001b[0m in \u001b[0;36mdispatch_line\u001b[0;34m(self, frame)\u001b[0m\n\u001b[1;32m     68\u001b[0m         \u001b[0;32mif\u001b[0m \u001b[0mself\u001b[0m\u001b[0;34m.\u001b[0m\u001b[0mstop_here\u001b[0m\u001b[0;34m(\u001b[0m\u001b[0mframe\u001b[0m\u001b[0;34m)\u001b[0m \u001b[0;32mor\u001b[0m \u001b[0mself\u001b[0m\u001b[0;34m.\u001b[0m\u001b[0mbreak_here\u001b[0m\u001b[0;34m(\u001b[0m\u001b[0mframe\u001b[0m\u001b[0;34m)\u001b[0m\u001b[0;34m:\u001b[0m\u001b[0;34m\u001b[0m\u001b[0;34m\u001b[0m\u001b[0m\n\u001b[1;32m     69\u001b[0m             \u001b[0mself\u001b[0m\u001b[0;34m.\u001b[0m\u001b[0muser_line\u001b[0m\u001b[0;34m(\u001b[0m\u001b[0mframe\u001b[0m\u001b[0;34m)\u001b[0m\u001b[0;34m\u001b[0m\u001b[0;34m\u001b[0m\u001b[0m\n\u001b[0;32m---> 70\u001b[0;31m             \u001b[0;32mif\u001b[0m \u001b[0mself\u001b[0m\u001b[0;34m.\u001b[0m\u001b[0mquitting\u001b[0m\u001b[0;34m:\u001b[0m \u001b[0;32mraise\u001b[0m \u001b[0mBdbQuit\u001b[0m\u001b[0;34m\u001b[0m\u001b[0;34m\u001b[0m\u001b[0m\n\u001b[0m\u001b[1;32m     71\u001b[0m         \u001b[0;32mreturn\u001b[0m \u001b[0mself\u001b[0m\u001b[0;34m.\u001b[0m\u001b[0mtrace_dispatch\u001b[0m\u001b[0;34m\u001b[0m\u001b[0;34m\u001b[0m\u001b[0m\n\u001b[1;32m     72\u001b[0m \u001b[0;34m\u001b[0m\u001b[0m\n",
      "\u001b[0;31mBdbQuit\u001b[0m: "
     ]
    }
   ],
   "source": [
    "for i in tqdm(range(0, steps-1)):\n",
    "    \n",
    "        r = rdat[i]\n",
    "        v = vdat[i]\n",
    "        \n",
    "        tdat[i] = i*dt\n",
    "\n",
    "        # calculate dipole field\n",
    "        B0 = B(r)\n",
    "        \n",
    "        # set electric field to 0\n",
    "        E = 0\n",
    "        \n",
    "        c0 = (dt*q*B0)/(2*m)\n",
    "        \n",
    "        # push step 1 - update velocity with half electrostatic contribution\n",
    "        v1 = v + (q*E*dt)/(2*m)\n",
    "        \n",
    "        # push step 2 - rotated via the magnetic field contribution \n",
    "        ax = v1 + np.cross(v1,c0)\n",
    "        bx = (2*c0)/(1+c0**2)\n",
    "        v2 = v1 + np.cross(ax,bx)\n",
    "        \n",
    "        # push step 3 - updated again with another half of the electrostatic push\n",
    "        vnew = v2 + (q*E*dt)/(2*m)\n",
    "        \n",
    "        # update position\n",
    "        rnew = r + vnew*dt\n",
    "        \n",
    "        import pdb\n",
    "        pdb.set_trace()\n",
    "        \n",
    "        # append to data arrays\n",
    "        vdat[i+1] = vnew\n",
    "        rdat[i+1] = rnew"
   ]
  },
  {
   "cell_type": "code",
   "execution_count": 32,
   "id": "715a8e8b",
   "metadata": {},
   "outputs": [
    {
     "name": "stderr",
     "output_type": "stream",
     "text": [
      "\r",
      "  0%|          | 0/1439999 [00:00<?, ?it/s]"
     ]
    },
    {
     "name": "stdout",
     "output_type": "stream",
     "text": [
      "> <ipython-input-32-87b25d6545ac>(34)<module>()\n",
      "-> vdat[i+1] = vnew\n",
      "(Pdb) q\n"
     ]
    },
    {
     "name": "stderr",
     "output_type": "stream",
     "text": [
      "  0%|          | 0/1439999 [00:20<?, ?it/s]\n"
     ]
    },
    {
     "ename": "BdbQuit",
     "evalue": "",
     "output_type": "error",
     "traceback": [
      "\u001b[0;31m---------------------------------------------------------------------------\u001b[0m",
      "\u001b[0;31mBdbQuit\u001b[0m                                   Traceback (most recent call last)",
      "\u001b[0;32m<ipython-input-32-87b25d6545ac>\u001b[0m in \u001b[0;36m<module>\u001b[0;34m()\u001b[0m\n\u001b[1;32m     32\u001b[0m \u001b[0;34m\u001b[0m\u001b[0m\n\u001b[1;32m     33\u001b[0m         \u001b[0;31m# append to data arrays\u001b[0m\u001b[0;34m\u001b[0m\u001b[0;34m\u001b[0m\u001b[0;34m\u001b[0m\u001b[0m\n\u001b[0;32m---> 34\u001b[0;31m         \u001b[0mvdat\u001b[0m\u001b[0;34m[\u001b[0m\u001b[0mi\u001b[0m\u001b[0;34m+\u001b[0m\u001b[0;36m1\u001b[0m\u001b[0;34m]\u001b[0m \u001b[0;34m=\u001b[0m \u001b[0mvnew\u001b[0m\u001b[0;34m\u001b[0m\u001b[0;34m\u001b[0m\u001b[0m\n\u001b[0m\u001b[1;32m     35\u001b[0m         \u001b[0mrdat\u001b[0m\u001b[0;34m[\u001b[0m\u001b[0mi\u001b[0m\u001b[0;34m+\u001b[0m\u001b[0;36m1\u001b[0m\u001b[0;34m]\u001b[0m \u001b[0;34m=\u001b[0m \u001b[0mrnew\u001b[0m\u001b[0;34m\u001b[0m\u001b[0;34m\u001b[0m\u001b[0m\n\u001b[1;32m     36\u001b[0m \u001b[0;34m\u001b[0m\u001b[0m\n",
      "\u001b[0;32m<ipython-input-32-87b25d6545ac>\u001b[0m in \u001b[0;36m<module>\u001b[0;34m()\u001b[0m\n\u001b[1;32m     32\u001b[0m \u001b[0;34m\u001b[0m\u001b[0m\n\u001b[1;32m     33\u001b[0m         \u001b[0;31m# append to data arrays\u001b[0m\u001b[0;34m\u001b[0m\u001b[0;34m\u001b[0m\u001b[0;34m\u001b[0m\u001b[0m\n\u001b[0;32m---> 34\u001b[0;31m         \u001b[0mvdat\u001b[0m\u001b[0;34m[\u001b[0m\u001b[0mi\u001b[0m\u001b[0;34m+\u001b[0m\u001b[0;36m1\u001b[0m\u001b[0;34m]\u001b[0m \u001b[0;34m=\u001b[0m \u001b[0mvnew\u001b[0m\u001b[0;34m\u001b[0m\u001b[0;34m\u001b[0m\u001b[0m\n\u001b[0m\u001b[1;32m     35\u001b[0m         \u001b[0mrdat\u001b[0m\u001b[0;34m[\u001b[0m\u001b[0mi\u001b[0m\u001b[0;34m+\u001b[0m\u001b[0;36m1\u001b[0m\u001b[0;34m]\u001b[0m \u001b[0;34m=\u001b[0m \u001b[0mrnew\u001b[0m\u001b[0;34m\u001b[0m\u001b[0;34m\u001b[0m\u001b[0m\n\u001b[1;32m     36\u001b[0m \u001b[0;34m\u001b[0m\u001b[0m\n",
      "\u001b[0;32m/Users/argall/anaconda3/envs/imef/lib/python3.6/bdb.py\u001b[0m in \u001b[0;36mtrace_dispatch\u001b[0;34m(self, frame, event, arg)\u001b[0m\n\u001b[1;32m     49\u001b[0m             \u001b[0;32mreturn\u001b[0m \u001b[0;31m# None\u001b[0m\u001b[0;34m\u001b[0m\u001b[0;34m\u001b[0m\u001b[0m\n\u001b[1;32m     50\u001b[0m         \u001b[0;32mif\u001b[0m \u001b[0mevent\u001b[0m \u001b[0;34m==\u001b[0m \u001b[0;34m'line'\u001b[0m\u001b[0;34m:\u001b[0m\u001b[0;34m\u001b[0m\u001b[0;34m\u001b[0m\u001b[0m\n\u001b[0;32m---> 51\u001b[0;31m             \u001b[0;32mreturn\u001b[0m \u001b[0mself\u001b[0m\u001b[0;34m.\u001b[0m\u001b[0mdispatch_line\u001b[0m\u001b[0;34m(\u001b[0m\u001b[0mframe\u001b[0m\u001b[0;34m)\u001b[0m\u001b[0;34m\u001b[0m\u001b[0;34m\u001b[0m\u001b[0m\n\u001b[0m\u001b[1;32m     52\u001b[0m         \u001b[0;32mif\u001b[0m \u001b[0mevent\u001b[0m \u001b[0;34m==\u001b[0m \u001b[0;34m'call'\u001b[0m\u001b[0;34m:\u001b[0m\u001b[0;34m\u001b[0m\u001b[0;34m\u001b[0m\u001b[0m\n\u001b[1;32m     53\u001b[0m             \u001b[0;32mreturn\u001b[0m \u001b[0mself\u001b[0m\u001b[0;34m.\u001b[0m\u001b[0mdispatch_call\u001b[0m\u001b[0;34m(\u001b[0m\u001b[0mframe\u001b[0m\u001b[0;34m,\u001b[0m \u001b[0marg\u001b[0m\u001b[0;34m)\u001b[0m\u001b[0;34m\u001b[0m\u001b[0;34m\u001b[0m\u001b[0m\n",
      "\u001b[0;32m/Users/argall/anaconda3/envs/imef/lib/python3.6/bdb.py\u001b[0m in \u001b[0;36mdispatch_line\u001b[0;34m(self, frame)\u001b[0m\n\u001b[1;32m     68\u001b[0m         \u001b[0;32mif\u001b[0m \u001b[0mself\u001b[0m\u001b[0;34m.\u001b[0m\u001b[0mstop_here\u001b[0m\u001b[0;34m(\u001b[0m\u001b[0mframe\u001b[0m\u001b[0;34m)\u001b[0m \u001b[0;32mor\u001b[0m \u001b[0mself\u001b[0m\u001b[0;34m.\u001b[0m\u001b[0mbreak_here\u001b[0m\u001b[0;34m(\u001b[0m\u001b[0mframe\u001b[0m\u001b[0;34m)\u001b[0m\u001b[0;34m:\u001b[0m\u001b[0;34m\u001b[0m\u001b[0;34m\u001b[0m\u001b[0m\n\u001b[1;32m     69\u001b[0m             \u001b[0mself\u001b[0m\u001b[0;34m.\u001b[0m\u001b[0muser_line\u001b[0m\u001b[0;34m(\u001b[0m\u001b[0mframe\u001b[0m\u001b[0;34m)\u001b[0m\u001b[0;34m\u001b[0m\u001b[0;34m\u001b[0m\u001b[0m\n\u001b[0;32m---> 70\u001b[0;31m             \u001b[0;32mif\u001b[0m \u001b[0mself\u001b[0m\u001b[0;34m.\u001b[0m\u001b[0mquitting\u001b[0m\u001b[0;34m:\u001b[0m \u001b[0;32mraise\u001b[0m \u001b[0mBdbQuit\u001b[0m\u001b[0;34m\u001b[0m\u001b[0;34m\u001b[0m\u001b[0m\n\u001b[0m\u001b[1;32m     71\u001b[0m         \u001b[0;32mreturn\u001b[0m \u001b[0mself\u001b[0m\u001b[0;34m.\u001b[0m\u001b[0mtrace_dispatch\u001b[0m\u001b[0;34m\u001b[0m\u001b[0;34m\u001b[0m\u001b[0m\n\u001b[1;32m     72\u001b[0m \u001b[0;34m\u001b[0m\u001b[0m\n",
      "\u001b[0;31mBdbQuit\u001b[0m: "
     ]
    }
   ],
   "source": [
    "fig = plt.figure(figsize=(8, 8))\n",
    "ax = plt.axes(projection='3d')\n",
    "\n",
    "# plot dipole field data\n",
    "ax.plot3D(rdat[:,0],rdat[:,1],rdat[:,2],'k',linewidth=0.5)\n",
    "\n",
    "# plot 3D earth\n",
    "earth3D(1)\n",
    "\n",
    "# graph correction, keeps origin (0,0,0) at center\n",
    "ranges = []\n",
    "ranges.append(math.ceil(max(abs(rdat[:,0]))))\n",
    "ranges.append(math.ceil(min(abs(rdat[:,0]))))\n",
    "ranges.append(math.ceil(max(abs(rdat[:,1]))))\n",
    "ranges.append(math.ceil(min(abs(rdat[:,1]))))\n",
    "ranges.append(math.ceil(max(abs(rdat[:,2]))))\n",
    "ranges.append(math.ceil(min(abs(rdat[:,2]))))\n",
    "\n",
    "axrng = max(ranges)\n",
    "\n",
    "ax.set_xlim([-axrng, axrng])\n",
    "ax.set_ylim([-axrng, axrng])\n",
    "ax.set_zlim([-axrng, axrng])\n",
    "\n",
    "# plot attributes\n",
    "#ax.set_box_aspect([1,1,.5])\n",
    "ax.set_xlabel(\"$x$ [$R_E$]\")\n",
    "ax.set_ylabel(\"$y$ [$R_E$]\")\n",
    "ax.set_zlabel(\"$z$ [$R_E$]\")\n",
    "\n",
    "# save figure\n",
    "# fname = 'dipolef'\n",
    "# plt.savefig('../bin/'+fname+'.png',bbox_inches='tight', dpi=150)\n",
    "\n",
    "plt.show()\n",
    "\n",
    "# end time\n",
    "time_end = time.time()\n",
    "\n",
    "# print runtime\n",
    "runtime = time_end - time_start\n",
    "print(f\"runtime = {runtime} s ({runtime/60} min)\")"
   ]
  },
  {
   "cell_type": "code",
   "execution_count": 30,
   "id": "1c75431c",
   "metadata": {},
   "outputs": [
    {
     "data": {
      "text/plain": [
       "Text(108.125, 0.5, '$|V|$ [$m/s$]')"
      ]
     },
     "execution_count": 30,
     "metadata": {},
     "output_type": "execute_result"
    },
    {
     "data": {
      "image/png": "[encoded data removed]",
      "text/plain": [
       "<Figure size 1080x720 with 4 Axes>"
      ]
     },
     "metadata": {
      "needs_background": "light"
     },
     "output_type": "display_data"
    }
   ],
   "source": [
    "fig, (ax1, ax2, ax3, ax4) = plt.subplots(4, figsize=(15, 10))\n",
    "plt.tight_layout(pad=2.)\n",
    "\n",
    "ax1.plot(rdat[:,0],vdat[:,0], c='grey', linewidth=0.25)\n",
    "ax1.set_xlabel(\"$x$ [$R_E$]\")\n",
    "ax1.set_ylabel(\"$v_x$ [$m/s$]\")\n",
    "\n",
    "\n",
    "ax2.plot(rdat[:,1],vdat[:,1], c='grey', linewidth=0.25)\n",
    "ax2.set_xlabel(\"$y$ [$R_E$]\")\n",
    "ax2.set_ylabel(\"$v_y$ [$m/s$]\")\n",
    "\n",
    "\n",
    "ax3.plot(rdat[:,2],vdat[:,2], c='grey', linewidth=0.25)\n",
    "ax3.set_xlabel(\"$z$ [$R_E$]\")\n",
    "ax3.set_ylabel(\"$v_z$ [$m/s$]\")\n",
    "\n",
    "ax4.plot(tdat, np.sqrt(np.sum(vdat**2, axis=1)))\n",
    "ax4.set_xlabel(\"$t$ [$s$]\")\n",
    "ax4.set_ylabel(\"$|V|$ [$m/s$]\")"
   ]
  },
  {
   "cell_type": "markdown",
   "id": "ff93348b",
   "metadata": {},
   "source": [
    "#### References\n",
    "* J. E. García-Farieta and A. Hurtado, “Simulation of charged particles in Earth’s magnetosphere: an approach to the Van Allen belts”, Rev. Mex. Fis. E, vol. 65, no. 1 Jan-Jun, pp. 64–70, Jan. 2019.\n",
    "* https://en.wikipedia.org/wiki/Magnetic_dipole\n",
    "* http://physicsinsights.org/dipole_field_1.html\n",
    "* Notes from J. Shuster, *Numerical Applications for Space Weather* 2020 \n",
    "\n"
   ]
  },
  {
   "cell_type": "markdown",
   "id": "63c460ab",
   "metadata": {},
   "source": []
  }
 ],
 "metadata": {
  "kernelspec": {
   "display_name": "Python 3",
   "language": "python",
   "name": "python3"
  },
  "language_info": {
   "codemirror_mode": {
    "name": "ipython",
    "version": 3
   },
   "file_extension": ".py",
   "mimetype": "text/x-python",
   "name": "python",
   "nbconvert_exporter": "python",
   "pygments_lexer": "ipython3",
   "version": "3.6.13"
  },
  "vscode": {
   "interpreter": {
    "hash": "916dbcbb3f70747c44a77c7bcd40155683ae19c65e1c03b4aa3499c5328201f1"
   }
  }
 },
 "nbformat": 4,
 "nbformat_minor": 5
}
